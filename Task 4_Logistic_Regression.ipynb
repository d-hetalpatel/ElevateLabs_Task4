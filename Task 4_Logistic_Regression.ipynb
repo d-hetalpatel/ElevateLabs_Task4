{
 "cells": [
  {
   "cell_type": "markdown",
   "id": "ea3824f8-81dc-4b4e-af0e-e8765049fcbe",
   "metadata": {},
   "source": [
    "## Task 4: Classification with Logistic Regression.\n",
    "#### Submitted by Hetal Patel Dholu"
   ]
  },
  {
   "cell_type": "code",
   "execution_count": 1,
   "id": "b0cf97ec-a43c-45df-82d3-e2d984caa44a",
   "metadata": {},
   "outputs": [],
   "source": [
    "# Importing necessary libraries\n",
    "import pandas as pd\n",
    "from sklearn.linear_model import LogisticRegression\n",
    "from sklearn.preprocessing import StandardScaler\n",
    "from sklearn.model_selection import train_test_split\n",
    "from sklearn.metrics  import confusion_matrix, precision_score, recall_score, roc_auc_score,accuracy_score,classification_report,roc_curve, auc"
   ]
  },
  {
   "cell_type": "code",
   "execution_count": 2,
   "id": "80a9fc42-b5e4-4f05-a907-a90712c0265f",
   "metadata": {},
   "outputs": [],
   "source": [
    "breast_Cancer = pd.read_csv(\"data.csv\")"
   ]
  },
  {
   "cell_type": "code",
   "execution_count": 3,
   "id": "4137a9e6-5029-4a1b-a71d-fe76fdb9f10d",
   "metadata": {
    "scrolled": true
   },
   "outputs": [
    {
     "name": "stdout",
     "output_type": "stream",
     "text": [
      "<class 'pandas.core.frame.DataFrame'>\n",
      "RangeIndex: 569 entries, 0 to 568\n",
      "Data columns (total 33 columns):\n",
      " #   Column                   Non-Null Count  Dtype  \n",
      "---  ------                   --------------  -----  \n",
      " 0   id                       569 non-null    int64  \n",
      " 1   diagnosis                569 non-null    object \n",
      " 2   radius_mean              569 non-null    float64\n",
      " 3   texture_mean             569 non-null    float64\n",
      " 4   perimeter_mean           569 non-null    float64\n",
      " 5   area_mean                569 non-null    float64\n",
      " 6   smoothness_mean          569 non-null    float64\n",
      " 7   compactness_mean         569 non-null    float64\n",
      " 8   concavity_mean           569 non-null    float64\n",
      " 9   concave points_mean      569 non-null    float64\n",
      " 10  symmetry_mean            569 non-null    float64\n",
      " 11  fractal_dimension_mean   569 non-null    float64\n",
      " 12  radius_se                569 non-null    float64\n",
      " 13  texture_se               569 non-null    float64\n",
      " 14  perimeter_se             569 non-null    float64\n",
      " 15  area_se                  569 non-null    float64\n",
      " 16  smoothness_se            569 non-null    float64\n",
      " 17  compactness_se           569 non-null    float64\n",
      " 18  concavity_se             569 non-null    float64\n",
      " 19  concave points_se        569 non-null    float64\n",
      " 20  symmetry_se              569 non-null    float64\n",
      " 21  fractal_dimension_se     569 non-null    float64\n",
      " 22  radius_worst             569 non-null    float64\n",
      " 23  texture_worst            569 non-null    float64\n",
      " 24  perimeter_worst          569 non-null    float64\n",
      " 25  area_worst               569 non-null    float64\n",
      " 26  smoothness_worst         569 non-null    float64\n",
      " 27  compactness_worst        569 non-null    float64\n",
      " 28  concavity_worst          569 non-null    float64\n",
      " 29  concave points_worst     569 non-null    float64\n",
      " 30  symmetry_worst           569 non-null    float64\n",
      " 31  fractal_dimension_worst  569 non-null    float64\n",
      " 32  Unnamed: 32              0 non-null      float64\n",
      "dtypes: float64(31), int64(1), object(1)\n",
      "memory usage: 146.8+ KB\n"
     ]
    }
   ],
   "source": [
    "breast_Cancer.info()"
   ]
  },
  {
   "cell_type": "code",
   "execution_count": 4,
   "id": "87197d37-9a8d-4d92-932b-c4fc49f70411",
   "metadata": {},
   "outputs": [],
   "source": [
    "#dropping unnecesary columns which not be useful for prediction\n",
    "breast_Cancer.drop(columns=['id','Unnamed: 32'],axis=1,inplace=True)"
   ]
  },
  {
   "cell_type": "code",
   "execution_count": 5,
   "id": "793b12e6-7f16-40cb-8342-ffebfb6f8987",
   "metadata": {},
   "outputs": [
    {
     "data": {
      "text/plain": [
       "Index(['diagnosis', 'radius_mean', 'texture_mean', 'perimeter_mean',\n",
       "       'area_mean', 'smoothness_mean', 'compactness_mean', 'concavity_mean',\n",
       "       'concave points_mean', 'symmetry_mean', 'fractal_dimension_mean',\n",
       "       'radius_se', 'texture_se', 'perimeter_se', 'area_se', 'smoothness_se',\n",
       "       'compactness_se', 'concavity_se', 'concave points_se', 'symmetry_se',\n",
       "       'fractal_dimension_se', 'radius_worst', 'texture_worst',\n",
       "       'perimeter_worst', 'area_worst', 'smoothness_worst',\n",
       "       'compactness_worst', 'concavity_worst', 'concave points_worst',\n",
       "       'symmetry_worst', 'fractal_dimension_worst'],\n",
       "      dtype='object')"
      ]
     },
     "execution_count": 5,
     "metadata": {},
     "output_type": "execute_result"
    }
   ],
   "source": [
    "#checking if they are properly dropped\n",
    "breast_Cancer.columns ##-> seems they are actually dropped"
   ]
  },
  {
   "cell_type": "code",
   "execution_count": 6,
   "id": "76398042-b54e-46bd-8b54-b967d67d9a35",
   "metadata": {},
   "outputs": [],
   "source": [
    "#Now lets encode; Theres only one feature with categories that is  diagnosis = ' M'/'B'\n",
    "breast_Cancer['diagnosis']=breast_Cancer['diagnosis'].map({'M':1,'B':0})"
   ]
  },
  {
   "cell_type": "code",
   "execution_count": 7,
   "id": "b7c8876c-95bd-4b5e-bdec-250d05cd2d63",
   "metadata": {},
   "outputs": [
    {
     "data": {
      "text/plain": [
       "<bound method IndexOpsMixin.value_counts of 0      1\n",
       "1      1\n",
       "2      1\n",
       "3      1\n",
       "4      1\n",
       "      ..\n",
       "564    1\n",
       "565    1\n",
       "566    1\n",
       "567    1\n",
       "568    0\n",
       "Name: diagnosis, Length: 569, dtype: int64>"
      ]
     },
     "execution_count": 7,
     "metadata": {},
     "output_type": "execute_result"
    }
   ],
   "source": [
    "#check\n",
    "breast_Cancer['diagnosis'].value_counts ##Yess!!"
   ]
  },
  {
   "cell_type": "code",
   "execution_count": 8,
   "id": "2ca071ec-96cc-4481-b2eb-ab6dcccb52c2",
   "metadata": {},
   "outputs": [],
   "source": [
    "#Lets model with Logistic Regression\n",
    "\n",
    "#define the data\n",
    "x=breast_Cancer.drop('diagnosis',axis=1)\n",
    "y=breast_Cancer['diagnosis']\n",
    "\n",
    "#split the data\n",
    "x_train,x_test,y_train,y_test = train_test_split(x,y,test_size=0.2,random_state=42)"
   ]
  },
  {
   "cell_type": "code",
   "execution_count": 9,
   "id": "3f6513fb-72d2-430b-b82b-265d7365b820",
   "metadata": {},
   "outputs": [],
   "source": [
    "#scale the features(x) not labels(y)\n",
    "x_train = StandardScaler().fit_transform(x_train)\n",
    "x_test= StandardScaler().fit_transform(x_test)"
   ]
  },
  {
   "cell_type": "code",
   "execution_count": 10,
   "id": "ba63a94d-2ef8-45d8-b825-85d33dc99e70",
   "metadata": {},
   "outputs": [],
   "source": [
    "#define model and fit the parameters\n",
    "log_reg = LogisticRegression(max_iter=5000,random_state=42)\n",
    "log_reg.fit(x_train,y_train)\n",
    "\n",
    "#prediting \n",
    "y_pred = log_reg.predict(x_test)"
   ]
  },
  {
   "cell_type": "code",
   "execution_count": 11,
   "id": "69bf047b-7de0-4450-aab8-4d80e3af441a",
   "metadata": {},
   "outputs": [],
   "source": [
    "#testing the model\n",
    "accuracy_score = accuracy_score(y_test,y_pred)\n",
    "cm = confusion_matrix(y_test,y_pred)\n",
    "precision_score = precision_score(y_test,y_pred)\n",
    "recall_score = recall_score(y_test,y_pred)\n",
    "roc_auc_score = roc_auc_score(y_test,y_pred)\n"
   ]
  },
  {
   "cell_type": "code",
   "execution_count": 12,
   "id": "58b6c89a-88d0-448f-9a20-cf94bd791bc2",
   "metadata": {},
   "outputs": [
    {
     "name": "stdout",
     "output_type": "stream",
     "text": [
      "Accuracy score: 0.9824561403508771\n",
      "Precision : 1.0\n",
      "recall_score: 0.9534883720930233\n",
      "roc_auc: 0.9767441860465116\n",
      "Classification Report:               precision    recall  f1-score   support\n",
      "\n",
      "           0       0.97      1.00      0.99        71\n",
      "           1       1.00      0.95      0.98        43\n",
      "\n",
      "    accuracy                           0.98       114\n",
      "   macro avg       0.99      0.98      0.98       114\n",
      "weighted avg       0.98      0.98      0.98       114\n",
      "\n"
     ]
    }
   ],
   "source": [
    "#showing the result\n",
    "print(\"Accuracy score:\",accuracy_score)\n",
    "print(\"Precision :\",precision_score)\n",
    "print(\"recall_score:\",recall_score)\n",
    "print(\"roc_auc:\",roc_auc_score)\n",
    "print(\"Classification Report:\",classification_report(y_test,y_pred))"
   ]
  },
  {
   "cell_type": "code",
   "execution_count": 13,
   "id": "8ab1ba60-d72e-4e5a-9a9f-6880e8d82e04",
   "metadata": {},
   "outputs": [
    {
     "data": {
      "image/png": "[encoded data removed]",
      "text/plain": [
       "<Figure size 500x300 with 2 Axes>"
      ]
     },
     "metadata": {},
     "output_type": "display_data"
    }
   ],
   "source": [
    "import matplotlib.pyplot as plt\n",
    "import seaborn as sns\n",
    "plt.figure(figsize=(5,3))\n",
    "sns.heatmap(cm)\n",
    "plt.title(\"Confusion Matix of Breast Cancer\")\n",
    "plt.xlabel(\"Predicted\")\n",
    "plt.ylabel(\"True Values\")\n",
    "plt.show()"
   ]
  },
  {
   "cell_type": "markdown",
   "id": "f6b30c95-d87b-411e-a35d-bb9c880c17ed",
   "metadata": {},
   "source": [
    "##### Tune threshold and explain sigmoid function."
   ]
  },
  {
   "cell_type": "markdown",
   "id": "cccea759-88cb-4bb8-a426-6b8fc6c14f70",
   "metadata": {},
   "source": [
    "The Sigmoid Function\n",
    "\n",
    "The sigmoid function is the heart of Logistic Regression.\n",
    "It maps any real number (from -∞ to +∞) into a probability between 0 and 1:\n",
    "\n",
    "𝜎(𝑧) =  1/(1+𝑒^−𝑧)\n",
    "\n",
    "z = w₀ + w₁x₁ + w₂x₂ + ... + wₙxₙ (linear combination of features)\n",
    "\n",
    "Output: probability that the instance belongs to the positive class (e.g., Malignant = 1).\n",
    "\n",
    "Example:\n",
    "\n",
    "If sigmoid output = 0.85, model says “85% chance tumor is malignant”.\n",
    "\n",
    "Default decision rule: if probability > 0.5 → predict 1 (Malignant), else 0 (Benign).\n"
   ]
  },
  {
   "cell_type": "markdown",
   "id": "eeea9806-676c-4a72-846e-e128d55222cb",
   "metadata": {},
   "source": [
    "##### Tuning the Threshold\n",
    "\n",
    "By default, Logistic Regression uses 0.5 threshold.\n",
    "But you can adjust this depending on your goal:\n",
    "\n",
    "Lower threshold (e.g. 0.3):\n",
    "→ More tumors predicted malignant (higher recall, fewer false negatives).\n",
    "\n",
    "Higher threshold (e.g. 0.7):\n",
    "→ Stricter, fewer malignant predictions (higher precision, fewer false positives)."
   ]
  },
  {
   "cell_type": "code",
   "execution_count": 14,
   "id": "d24bd697-97aa-40ff-b8e8-e18d9d821f79",
   "metadata": {},
   "outputs": [
    {
     "name": "stdout",
     "output_type": "stream",
     "text": [
      "Confusion Matrix:\n",
      " [[71  0]\n",
      " [ 1 42]]\n",
      "\n",
      "Classification Report:\n",
      "               precision    recall  f1-score   support\n",
      "\n",
      "           0       0.99      1.00      0.99        71\n",
      "           1       1.00      0.98      0.99        43\n",
      "\n",
      "    accuracy                           0.99       114\n",
      "   macro avg       0.99      0.99      0.99       114\n",
      "weighted avg       0.99      0.99      0.99       114\n",
      "\n"
     ]
    }
   ],
   "source": [
    "# Get predicted probabilities\n",
    "y_prob = log_reg.predict_proba(x_test)[:, 1]  # probability for class 1\n",
    "\n",
    "# Tune threshold\n",
    "threshold = 0.3   # try 0.3, 0.5, 0.7\n",
    "y_pred_new = (y_prob >= threshold).astype(int)\n",
    "cm  = confusion_matrix(y_test,y_pred_new)\n",
    "print(\"Confusion Matrix:\\n\",cm)# confusion_matrix(y_test, y_pred_new))\n",
    "print(\"\\nClassification Report:\\n\", classification_report(y_test, y_pred_new))\n"
   ]
  },
  {
   "cell_type": "code",
   "execution_count": 15,
   "id": "84995014-0d16-43ce-b49b-cef26f12edc1",
   "metadata": {},
   "outputs": [
    {
     "data": {
      "image/png": "[encoded data removed]",
      "text/plain": [
       "<Figure size 640x480 with 1 Axes>"
      ]
     },
     "metadata": {},
     "output_type": "display_data"
    }
   ],
   "source": [
    "#Visualizing ROC AUC to see trade-off between thresholds:\n",
    "fpr, tpr, thresholds = roc_curve(y_test, y_prob)\n",
    "roc_auc = auc(fpr, tpr)\n",
    "\n",
    "plt.plot(fpr, tpr, label=f'ROC curve (AUC = {roc_auc:.2f})')\n",
    "plt.plot([0, 1], [0, 1], 'k--')  # diagonal line\n",
    "plt.xlabel('False Positive Rate')\n",
    "plt.ylabel('True Positive Rate')\n",
    "plt.title('ROC Curve')\n",
    "plt.legend()\n",
    "plt.show()\n"
   ]
  },
  {
   "cell_type": "markdown",
   "id": "19fa8d98-e356-4871-abaf-9be2de5b3380",
   "metadata": {},
   "source": [
    "__1. How does logistic regression differ from linear regression?__  \n",
    "Linear Regression predicts a continuous value (e.g., house price).\n",
    "Logistic Regression predicts a probability (between 0 and 1) using the sigmoid function, and then classifies into categories (e.g., cancer yes/no).\n",
    "So logistic regression is for classification, not regression.\n",
    "\n",
    "__2. What is the sigmoid function?__  \n",
    "The sigmoid squashes any real number into the range (0, 1):\n",
    "𝜎(𝑧) =  1/(1+𝑒^−𝑧)\n",
    "If σ(z) ≈ 1 → positive class\n",
    "If σ(z) ≈ 0 → negative class\n",
    "This probability is then compared to a threshold (default = 0.5).\n",
    "\n",
    "__3. What is precision vs recall?__  \n",
    "Precision: Of all predicted positives, how many are actually positive\n",
    "Precision =𝑇𝑃/(𝑇𝑃+𝐹𝑃)\n",
    "(Good when false alarms are costly, e.g., spam detection.)\n",
    "\n",
    "Recall (Sensitivity): Of all actual positives, how many did we correctly identify?\n",
    "Recall=𝑇𝑃/(𝑇𝑃+𝐹𝑁)\n",
    "(Good when missing a positive case is costly, e.g., cancer detection.)\n",
    "\n",
    "__4. What is the ROC-AUC curve?__  \n",
    "ROC curve plots True Positive Rate (Recall) vs False Positive Rate at different thresholds.\n",
    "AUC (Area Under Curve) summarizes the curve:\n",
    "AUC = 1 → perfect model\n",
    "AUC = 0.5 → random guessing\n",
    "It shows how well the model separates classes across all thresholds.\n",
    "\n",
    "__5. What is the confusion matrix?__  \n",
    "A 2x2 table that summarizes predictions:\n",
    "                    Predicted Positive\tPredicted Negative\n",
    "Actual Positive\t    True Positive (TP)\tFalse Negative (FN)\n",
    "Actual Negative\t    False Positive (FP)\tTrue Negative (TN)\n",
    "\n",
    "It helps see where the model is making mistakes.\n",
    "\n",
    "__6. What happens if classes are imbalanced?__  \n",
    "If one class dominates (e.g., 95% benign, 5% malignant), the model may just predict the majority class.\n",
    "Accuracy becomes misleading.\n",
    "Solutions:\n",
    "Use Precision, Recall, F1, ROC-AUC instead of accuracy.\n",
    "Apply resampling (oversample minority, undersample majority).\n",
    "Use class weights in logistic regression.\n",
    "\n",
    "__7. How do you choose the threshold?__  \n",
    "Default is 0.5, but you can adjust based on business needs:\n",
    "Lower threshold → higher recall (catch more positives, useful in medical diagnosis).\n",
    "Higher threshold → higher precision (fewer false alarms, useful in fraud detection).\n",
    "ROC curve or Precision-Recall curve can help find the “best” threshold (e.g., using Youden’s J statistic or maximizing F1 score).\n",
    "\n",
    "__8. Can logistic regression be used for multi-class problems?__  \n",
    "Yes.\n",
    "One-vs-Rest (OvR): Train a logistic regression per class vs all others.\n",
    "Multinomial Logistic Regression (softmax): Generalization of sigmoid for multiple classes.\n",
    "Sklearn’s LogisticRegression(multi_class='multinomial', solver='lbfgs') supports this."
   ]
  }
 ],
 "metadata": {
  "kernelspec": {
   "display_name": "Python (base-conda)",
   "language": "python",
   "name": "base"
  },
  "language_info": {
   "codemirror_mode": {
    "name": "ipython",
    "version": 3
   },
   "file_extension": ".py",
   "mimetype": "text/x-python",
   "name": "python",
   "nbconvert_exporter": "python",
   "pygments_lexer": "ipython3",
   "version": "3.13.5"
  }
 },
 "nbformat": 4,
 "nbformat_minor": 5
}
